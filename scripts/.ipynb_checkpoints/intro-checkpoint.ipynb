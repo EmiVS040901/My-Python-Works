{
 "cells": [
  {
   "cell_type": "code",
   "execution_count": 3,
   "metadata": {},
   "outputs": [
    {
     "name": "stdout",
     "output_type": "stream",
     "text": [
      "Digita tu nombre: Emilio\n",
      "\n",
      "¿Cuál es tu sexo? Hombre\n",
      "\n",
      "Digita tu edad: 21\n",
      "\n",
      "¿Cuál es tu email? emiliovega@gmail.com\n",
      "\n",
      "¿Cuál es tu ocupación? Estudiante\n"
     ]
    }
   ],
   "source": [
    "n = input('Digita tu nombre: ')\n",
    "\n",
    "s = input('\\n¿Cuál es tu sexo? ')\n",
    "\n",
    "e = input('\\nDigita tu edad: ')\n",
    "\n",
    "m = input('\\n¿Cuál es tu email? ')\n",
    "\n",
    "o = input('\\n¿Cuál es tu ocupación? ')\n",
    "\n",
    "L = [n,s,e,m,o]\n",
    "\n"
   ]
  },
  {
   "cell_type": "code",
   "execution_count": null,
   "metadata": {},
   "outputs": [],
   "source": [
    "salario = int(input('Digita tu salario mensual: '))\n",
    "\n",
    "semanal = salario/4\n",
    "\n",
    "semestral = salario*6\n",
    "\n",
    "anual = salario*12\n",
    "\n",
    "print(f'\\nTu disposición semanal de dinero es ${semanal}\\n')\n",
    "\n",
    "print(f'Tu disposición semestral de dinero es ${semestral}\\n')\n",
    "\n",
    "print(f'Tu disposición anual de dinero es ${anual}')"
   ]
  }
 ],
 "metadata": {
  "kernelspec": {
   "display_name": "Python 3 (ipykernel)",
   "language": "python",
   "name": "python3"
  },
  "language_info": {
   "codemirror_mode": {
    "name": "ipython",
    "version": 3
   },
   "file_extension": ".py",
   "mimetype": "text/x-python",
   "name": "python",
   "nbconvert_exporter": "python",
   "pygments_lexer": "ipython3",
   "version": "3.11.1"
  }
 },
 "nbformat": 4,
 "nbformat_minor": 2
}
