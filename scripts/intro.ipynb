{
 "cells": [
  {
   "cell_type": "code",
   "execution_count": 3,
   "metadata": {},
   "outputs": [
    {
     "name": "stdout",
     "output_type": "stream",
     "text": [
      "Digita tu nombre: Emilio\n",
      "\n",
      "¿Cuál es tu sexo? Hombre\n",
      "\n",
      "Digita tu edad: 21\n",
      "\n",
      "¿Cuál es tu email? emiliovega@gmail.com\n",
      "\n",
      "¿Cuál es tu ocupación? Estudiante\n"
     ]
    }
   ],
   "source": [
    "n = input('Digita tu nombre: ')\n",
    "\n",
    "s = input('\\n¿Cuál es tu sexo? ')\n",
    "\n",
    "e = input('\\nDigita tu edad: ')\n",
    "\n",
    "m = input('\\n¿Cuál es tu email? ')\n",
    "\n",
    "o = input('\\n¿Cuál es tu ocupación? ')\n",
    "\n",
    "L = [n,s,e,m,o]\n",
    "\n"
   ]
  },
  {
   "cell_type": "code",
   "execution_count": 1,
   "metadata": {},
   "outputs": [
    {
     "name": "stdout",
     "output_type": "stream",
     "text": [
      "Digita tu salario mensual: 22000\n",
      "\n",
      "Tu disposición semanal de dinero es $5500.0\n",
      "\n",
      "Tu disposición semestral de dinero es $132000\n",
      "\n",
      "Tu disposición anual de dinero es $264000\n"
     ]
    }
   ],
   "source": [
    "salario = int(input('Digita tu salario mensual: '))\n",
    "\n",
    "semanal = salario/4\n",
    "\n",
    "semestral = salario*6\n",
    "\n",
    "anual = salario*12\n",
    "\n",
    "print(f'\\nTu disposición semanal de dinero es ${semanal}\\n')\n",
    "\n",
    "print(f'Tu disposición semestral de dinero es ${semestral}\\n')\n",
    "\n",
    "print(f'Tu disposición anual de dinero es ${anual}')"
   ]
  },
  {
   "cell_type": "code",
   "execution_count": 6,
   "metadata": {},
   "outputs": [
    {
     "name": "stdout",
     "output_type": "stream",
     "text": [
      "Digita el monto total del préstamo (en pesos): 1000\n",
      "\n",
      "¿Cuál es el porcentaje de la tasa anual a la que pagarás el préstamo? 10\n",
      "\n",
      "¿En cuántos meses piensas pagar lo que se te prestó? 24\n",
      "\n",
      "Deberás pagar $1200.0 en total.\n",
      "\n",
      "Es decir, deberás pagar $50.0 al mes\n"
     ]
    }
   ],
   "source": [
    "#print('Este programa calcula el costo final de un prestamo\\n')\n",
    "\n",
    "prestamo = int(input('Digita el monto total del préstamo (en pesos): '))\n",
    "\n",
    "tasa = int(input('\\n¿Cuál es el porcentaje de la tasa anual a la que pagarás el préstamo? '))\n",
    "\n",
    "tiempo = int(input('\\n¿En cuántos meses piensas pagar lo que se te prestó? '))\n",
    "\n",
    "anual = prestamo*(tasa/100)*(tiempo/12)\n",
    "\n",
    "total = prestamo+anual\n",
    "\n",
    "mensual = total/tiempo\n",
    "\n",
    "print(f'\\nDeberás pagar ${total} en total.\\n')\n",
    "\n",
    "print(f'Es decir, deberás pagar ${mensual} al mes')\n",
    "\n",
    "\n"
   ]
  },
  {
   "cell_type": "code",
   "execution_count": 19,
   "metadata": {},
   "outputs": [
    {
     "name": "stdout",
     "output_type": "stream",
     "text": [
      "Este programa calcula el área de polígonos\n",
      "\n",
      "Tenemos los siguientes polígonos disponibles:\n",
      "1.-Cuadrado\n",
      "2.-Triángulo\n",
      "3.-Círculo\n",
      "4.-Rectángulo\n",
      "\n",
      "Digita el número del polígono del cual quieras calcular su área: 1\n",
      "\n",
      "Digita la longitud del cuadrado: 13\n",
      "\n",
      "El área del cuadrado de lado 13.0 es 169.0\n"
     ]
    }
   ],
   "source": [
    "import math\n",
    "\n",
    "print('Este programa calcula el área de polígonos\\n')\n",
    "\n",
    "print('Tenemos los siguientes polígonos disponibles:')\n",
    "\n",
    "print('1.-Cuadrado\\n2.-Triángulo\\n3.-Círculo\\n4.-Rectángulo\\n')\n",
    "\n",
    "i = int(input('Digita el número del polígono del cual quieras calcular su área: '))\n",
    "\n",
    "if i==1:\n",
    "    l = float(input('\\nDigita la longitud del cuadrado: '))\n",
    "    \n",
    "    area_cuad=l*l\n",
    "    \n",
    "    print(f'\\nEl área del cuadrado de lado {l} es {area_cuad}')\n",
    "    \n",
    "elif i==2:\n",
    "    \n",
    "    b_triang = float(input('\\nDigita la longitud de la base del triágulo: '))\n",
    "    \n",
    "    a_triang = float(input('\\nDigita la longitud de la altura del traingulo: '))\n",
    "    \n",
    "    area_triang = b_triang*a_triang*1/2\n",
    "    \n",
    "    print(f'\\nEl área del triángulo de base {b_triang} y altura {a_triang} es de {area_triang}')\n",
    "    \n",
    "elif i==3:\n",
    "    \n",
    "    r = float(input('\\nDigita la longitud del radio del círculo: '))\n",
    "    \n",
    "    area_circ = math.pi*r*r\n",
    "    \n",
    "    print(f'\\nEl area del circulo con radio {r} es {area_circ}')\n",
    "    \n",
    "elif i==4:\n",
    "    \n",
    "    b_rec = float(input('\\nDigita la longitud de la base del rectángulo: '))\n",
    "    \n",
    "    a_rec = float(input('\\nDigita la longitud de la altura del rectángulo: '))\n",
    "    \n",
    "    area_rec = b_rec*a_rec\n",
    "    \n",
    "    print(f'El area del rectangulo de base {b_rec} y altura {a_rec} es de {area_rec}')\n",
    "    \n",
    "else:\n",
    "    print('\\nEsta opción no está disponible. Debes seleccionar un número entre 1 y 4.')\n",
    "    \n",
    "    \n",
    "\n",
    "\n",
    "\n"
   ]
  },
  {
   "cell_type": "code",
   "execution_count": null,
   "metadata": {},
   "outputs": [],
   "source": []
  }
 ],
 "metadata": {
  "kernelspec": {
   "display_name": "Python 3 (ipykernel)",
   "language": "python",
   "name": "python3"
  },
  "language_info": {
   "codemirror_mode": {
    "name": "ipython",
    "version": 3
   },
   "file_extension": ".py",
   "mimetype": "text/x-python",
   "name": "python",
   "nbconvert_exporter": "python",
   "pygments_lexer": "ipython3",
   "version": "3.11.1"
  }
 },
 "nbformat": 4,
 "nbformat_minor": 2
}
